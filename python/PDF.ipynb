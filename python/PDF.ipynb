{
 "cells": [
  {
   "cell_type": "code",
   "execution_count": 1,
   "metadata": {},
   "outputs": [],
   "source": [
    "import pymupdf\n",
    "import os"
   ]
  },
  {
   "cell_type": "code",
   "execution_count": 24,
   "metadata": {},
   "outputs": [],
   "source": [
    "# def buildFolder(company, week, base_path='./Clientes/'):\n",
    "#     \"\"\"Crear carpeta para guardar los archivos\n",
    "#     de cada Cliente y semana.\n",
    "#     \"\"\"\n",
    "#     path = os.path.join(base_path, company, week)\n",
    "#     subfolders = ['table', 'png']\n",
    "    \n",
    "#     for subfolder in subfolders:\n",
    "#         os.makedirs(os.path.join(path, subfolder), exist_ok=True)\n",
    "    \n",
    "#     return path"
   ]
  },
  {
   "cell_type": "code",
   "execution_count": 25,
   "metadata": {},
   "outputs": [],
   "source": [
    "# def exportToPNG(pdfPath, excludePages, outputFolder):\n",
    "#     \"\"\"Exportar todas las páginas de un PDF a PNG\n",
    "#     excepto las que están en excludePages.\n",
    "#     \"\"\"\n",
    "#     doc = pymupdf.open(pdfPath)\n",
    "    \n",
    "#     for numPage in range(len(doc)):\n",
    "#         if numPage not in excludePages:\n",
    "#             page = doc.load_page(numPage)\n",
    "#             render = page.get_pixmap()\n",
    "#             render.save(os.path.join(outputFolder, f\"Page_{numPage + 1}.png\"))\n",
    "    \n",
    "#     doc.close()"
   ]
  },
  {
   "cell_type": "code",
   "execution_count": 2,
   "metadata": {},
   "outputs": [],
   "source": [
    "company = 'abastible_consolidado'\n",
    "week = '2025-01-20'"
   ]
  },
  {
   "cell_type": "code",
   "execution_count": 19,
   "metadata": {},
   "outputs": [],
   "source": [
    "# path = buildFolder(company, week)"
   ]
  },
  {
   "cell_type": "code",
   "execution_count": 3,
   "metadata": {},
   "outputs": [],
   "source": [
    "pdfName = 'Abastible'\n",
    "pdfPath = f'Clientes/{company}/{week}/{pdfName}.pdf'\n",
    "# outputFolder = os.path.join(path, 'png')\n",
    "excludePages = [0, 7, 8, 21, 35]"
   ]
  },
  {
   "cell_type": "code",
   "execution_count": 8,
   "metadata": {},
   "outputs": [],
   "source": [
    "doc = pymupdf.open(pdfPath)\n",
    "for numPage in range(len(doc)):\n",
    "    if numPage not in excludePages:\n",
    "        page = doc.load_page(numPage)\n",
    "        \n",
    "        width = page.rect.width        # Ancho de la página\n",
    "        height = page.rect.height      # Alto de la página\n",
    "\n",
    "        marginTop = 15\n",
    "        marginLeft = 60\n",
    "\n",
    "        pos = pymupdf.Rect(\n",
    "            marginLeft,                 # x0\n",
    "            height - marginTop - 140,    # y0\n",
    "            width - marginLeft,         # x1\n",
    "            height - marginTop,         # y1\n",
    "        )\n",
    "        \n",
    "        text = \"\"\"<b>Observación:</b> Lorem ipsum dolor sit amet, consectetur adipiscing elit. Nullam nec purus nec nunc tincidunt fermentum. Nullam nec purus nec nunc tincidunt fermentum. Nullam nec purus nec nunc tincidunt fermentum. Nullam nec purus nec nunc. Nullam nec purus nec nunc tincidunt fermentum. \n",
    "Nullam nec purus nec nunc tincidunt fermentum. Nullam nec purus nec nunc tincidunt fermentum. Nullam nec purus nec nunc. Nullam nec purus nec nunc tincidunt fermentum. Nullam nec purus nec nunctincidunt fermentum. \"\"\"\n",
    "        \n",
    "        fontName = \"Montserrat-Regular\"\n",
    "        fontFile = f\"fonts/{fontName}.ttf\"\n",
    "        page.insert_font(fontname=fontName, fontfile=fontFile)\n",
    "        \n",
    "        page.insert_htmlbox(\n",
    "            pos,\n",
    "            text,\n",
    "            css=f\"* {{font-family: {fontName}; font-size: 24px; color: #000000;}}\",\n",
    "        )\n",
    "\n",
    "doc.save(f'Clientes/{company}/{week}/{pdfName}_test.pdf')\n",
    "doc.close()"
   ]
  },
  {
   "cell_type": "code",
   "execution_count": 27,
   "metadata": {},
   "outputs": [],
   "source": [
    "# exportToPNG(pdfPath, excludePages, outputFolder)"
   ]
  }
 ],
 "metadata": {
  "kernelspec": {
   "display_name": "MLDL",
   "language": "python",
   "name": "python3"
  },
  "language_info": {
   "codemirror_mode": {
    "name": "ipython",
    "version": 3
   },
   "file_extension": ".py",
   "mimetype": "text/x-python",
   "name": "python",
   "nbconvert_exporter": "python",
   "pygments_lexer": "ipython3",
   "version": "3.12.4"
  }
 },
 "nbformat": 4,
 "nbformat_minor": 2
}
